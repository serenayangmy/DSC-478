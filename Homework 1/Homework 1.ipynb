{
 "cells": [
  {
   "cell_type": "markdown",
   "metadata": {},
   "source": [
    "### 1. Explore (and comment) the general characteristics of the data as a whole: examine the means, standard deviations, and other statistics associated with the numerical attributes; show the distributions of values associated with categorical attributes; etc."
   ]
  },
  {
   "cell_type": "markdown",
   "metadata": {},
   "source": [
    "Import libraries"
   ]
  },
  {
   "cell_type": "code",
   "execution_count": 1,
   "metadata": {},
   "outputs": [],
   "source": [
    "import numpy as np\n",
    "import pandas as pd\n",
    "import matplotlib.pyplot as plt\n",
    "%matplotlib inline"
   ]
  },
  {
   "cell_type": "code",
   "execution_count": 2,
   "metadata": {},
   "outputs": [
    {
     "data": {
      "text/plain": [
       "'/Users/serenayang/Desktop/DSC478/Homework 1'"
      ]
     },
     "execution_count": 2,
     "metadata": {},
     "output_type": "execute_result"
    }
   ],
   "source": [
    "%pwd"
   ]
  },
  {
   "cell_type": "code",
   "execution_count": 4,
   "metadata": {},
   "outputs": [
    {
     "name": "stdout",
     "output_type": "stream",
     "text": [
      "/Users/serenayang/Desktop/DSC478/Homework 1\n"
     ]
    }
   ],
   "source": [
    "cd /Users/serenayang/Desktop/DSC478/Homework 1"
   ]
  },
  {
   "cell_type": "code",
   "execution_count": 5,
   "metadata": {},
   "outputs": [],
   "source": [
    "more bank_data.csv"
   ]
  },
  {
   "cell_type": "markdown",
   "metadata": {},
   "source": [
    "Get the dataset and seprate them with labels and table"
   ]
  },
  {
   "cell_type": "code",
   "execution_count": 5,
   "metadata": {},
   "outputs": [
    {
     "name": "stdout",
     "output_type": "stream",
     "text": [
      "['id' 'age' 'income' 'children' 'gender' 'region' 'married' 'car'\n",
      " 'savings_acct' 'current_acct' 'mortgage' 'pep']\n",
      "[['ID12101' '48' '17546' '1' 'FEMALE' 'INNER_CITY' 'NO' 'NO' 'NO' 'NO'\n",
      "  'NO' 'YES']\n",
      " ['ID12102' '40' '30085.1' '3' 'MALE' 'TOWN' 'YES' 'YES' 'NO' 'YES' 'YES'\n",
      "  'NO']\n",
      " ['ID12103' '51' '16575.4' '0' 'FEMALE' 'INNER_CITY' 'YES' 'YES' 'YES'\n",
      "  'YES' 'NO' 'NO']\n",
      " ['ID12104' '23' '20375.4' '3' 'FEMALE' 'TOWN' 'YES' 'NO' 'NO' 'YES' 'NO'\n",
      "  'NO']\n",
      " ['ID12105' '57' '50576.3' '0' 'FEMALE' 'RURAL' 'YES' 'NO' 'YES' 'NO'\n",
      "  'NO' 'NO']]\n"
     ]
    }
   ],
   "source": [
    "#get the dataset\n",
    "dataset = np.genfromtxt(\"bank_data.csv\", delimiter=\",\", dtype=str)\n",
    "labels = dataset[0]\n",
    "table = dataset[1:]\n",
    "print(labels)\n",
    "print(table[0:5])"
   ]
  },
  {
   "cell_type": "markdown",
   "metadata": {},
   "source": [
    "The size of the dataset"
   ]
  },
  {
   "cell_type": "code",
   "execution_count": 6,
   "metadata": {},
   "outputs": [
    {
     "data": {
      "text/plain": [
       "(600, 12)"
      ]
     },
     "execution_count": 6,
     "metadata": {},
     "output_type": "execute_result"
    }
   ],
   "source": [
    "table.shape"
   ]
  },
  {
   "cell_type": "markdown",
   "metadata": {},
   "source": [
    "#### Explore each columns and convert columns from categorical to numerical"
   ]
  },
  {
   "cell_type": "markdown",
   "metadata": {},
   "source": [
    "Column'id': get the single column in'str' type."
   ]
  },
  {
   "cell_type": "code",
   "execution_count": 7,
   "metadata": {},
   "outputs": [
    {
     "name": "stdout",
     "output_type": "stream",
     "text": [
      "['ID12101' 'ID12102' 'ID12103' 'ID12104' 'ID12105']\n"
     ]
    }
   ],
   "source": [
    "id = np.array(table[:,0], dtype= 'str')\n",
    "print(id[0:5])"
   ]
  },
  {
   "cell_type": "markdown",
   "metadata": {},
   "source": [
    "Column 'age': convert this column into integer and get the average age, youngest, the oldest person and the std of age in this dataset."
   ]
  },
  {
   "cell_type": "code",
   "execution_count": 8,
   "metadata": {},
   "outputs": [
    {
     "name": "stdout",
     "output_type": "stream",
     "text": [
      "The minimum age: 18\n",
      "The maximum age: 67\n",
      "The average age: 42\n",
      "The standard deviations of age: 14.412921575216224\n"
     ]
    }
   ],
   "source": [
    "age = np.array(table[:,1], dtype=int)\n",
    "print(\"The minimum age:\", age.min())\n",
    "print(\"The maximum age:\", age.max())\n",
    "print(\"The average age:\", round(age.mean())) #round off to an integer\n",
    "print(\"The standard deviations of age:\", age.std())"
   ]
  },
  {
   "cell_type": "markdown",
   "metadata": {},
   "source": [
    "Column 'income': convert this column into float and calculate the mean, min, max, and std income."
   ]
  },
  {
   "cell_type": "code",
   "execution_count": 9,
   "metadata": {},
   "outputs": [
    {
     "name": "stdout",
     "output_type": "stream",
     "text": [
      "The minimum income: 5014.21\n",
      "The maximum income: 63130.1\n",
      "The average income: 27524.03\n",
      "The standard deviations of income: 12888.714206040804\n"
     ]
    }
   ],
   "source": [
    "income = np.array(table[:,2], dtype=float)\n",
    "print(\"The minimum income:\", income.min())\n",
    "print(\"The maximum income:\", income.max())\n",
    "print(\"The average income:\", round(income.mean(),2)) #round off 2 decimal\n",
    "print(\"The standard deviations of income:\", income.std())"
   ]
  },
  {
   "cell_type": "markdown",
   "metadata": {},
   "source": [
    "Column 'children': convert this column into integer and calculate the mean, min, and max number of children, and std."
   ]
  },
  {
   "cell_type": "code",
   "execution_count": 10,
   "metadata": {},
   "outputs": [
    {
     "name": "stdout",
     "output_type": "stream",
     "text": [
      "The minimum number of children of a customer: 0\n",
      "The maximum number of children of a customer: 3\n",
      "The average number of children of a customer: 1\n",
      "The standard deviations of number of children: 1.0558711516510377\n"
     ]
    }
   ],
   "source": [
    "children = np.array(table[:,3], dtype=int)\n",
    "print(\"The minimum number of children of a customer:\", children.min())\n",
    "print(\"The maximum number of children of a customer:\", children.max())\n",
    "print(\"The average number of children of a customer:\", round(children.mean())) #round off to an integer\n",
    "print(\"The standard deviations of number of children:\", children.std())"
   ]
  },
  {
   "cell_type": "markdown",
   "metadata": {},
   "source": [
    "Column 'gender': convert this column into integer and calculate the number of male and female."
   ]
  },
  {
   "cell_type": "code",
   "execution_count": 11,
   "metadata": {},
   "outputs": [
    {
     "name": "stdout",
     "output_type": "stream",
     "text": [
      "The number of females: 300\n",
      "The number of males: 300\n"
     ]
    }
   ],
   "source": [
    "#Convert column \"gender\": Male:0, Female:1\n",
    "temp = np.array(table[:,4])\n",
    "gender = np.zeros(len(temp), dtype = int)\n",
    "gender[temp=='FEMALE'] = 1\n",
    "print(\"The number of females:\", np.sum(gender == 1))\n",
    "print(\"The number of males:\",np.sum(gender == 0))"
   ]
  },
  {
   "cell_type": "markdown",
   "metadata": {},
   "source": [
    "Column 'region': convert this column into string and calculate the number of types, and convert into levels and calculate the sum of each levels."
   ]
  },
  {
   "cell_type": "code",
   "execution_count": 12,
   "metadata": {},
   "outputs": [
    {
     "name": "stdout",
     "output_type": "stream",
     "text": [
      "['INNER_CITY' 'RURAL' 'SUBURBAN' 'TOWN']\n"
     ]
    }
   ],
   "source": [
    "#get number of types\n",
    "temp = np.array(table[:,5])\n",
    "print(np.unique(temp))"
   ]
  },
  {
   "cell_type": "code",
   "execution_count": 13,
   "metadata": {},
   "outputs": [
    {
     "name": "stdout",
     "output_type": "stream",
     "text": [
      "The number of customers live in INNER_CITY: 269\n",
      "The number of customers live in RURAL: 96\n",
      "The number of customers live in TOWN: 173\n",
      "The number of customers live in SUBURBAN: 62\n"
     ]
    }
   ],
   "source": [
    "#convert into levels\n",
    "temp[temp=='INNER_CITY'] = 1\n",
    "temp[temp=='RURAL'] = 2\n",
    "temp[temp=='TOWN'] = 3\n",
    "temp[temp=='SUBURBAN'] = 4\n",
    "region = np.array(temp[0:], dtype = int)\n",
    "print(\"The number of customers live in INNER_CITY:\", np.sum(region == 1))\n",
    "print(\"The number of customers live in RURAL:\", np.sum(region == 2))\n",
    "print(\"The number of customers live in TOWN:\", np.sum(region == 3))\n",
    "print(\"The number of customers live in SUBURBAN:\", np.sum(region == 4))"
   ]
  },
  {
   "cell_type": "markdown",
   "metadata": {},
   "source": [
    "Column 'married': convert this column into integer and calculate the number of married and not married."
   ]
  },
  {
   "cell_type": "code",
   "execution_count": 14,
   "metadata": {},
   "outputs": [
    {
     "name": "stdout",
     "output_type": "stream",
     "text": [
      "The number of customer got married: 396\n",
      "The number of customer didn't get married: 204\n"
     ]
    }
   ],
   "source": [
    "#Convert column \"married\": NO:0, YES:1\n",
    "temp = np.array(table[:,6])\n",
    "married = np.zeros(len(temp))\n",
    "married[temp=='YES'] = 1\n",
    "print(\"The number of customer got married:\", np.sum(married == 1))\n",
    "print(\"The number of customer didn't get married:\",np.sum(married == 0))"
   ]
  },
  {
   "cell_type": "markdown",
   "metadata": {},
   "source": [
    "Column 'car': convert this column into integer and calculate the number of uesers who has a car."
   ]
  },
  {
   "cell_type": "code",
   "execution_count": 15,
   "metadata": {},
   "outputs": [
    {
     "name": "stdout",
     "output_type": "stream",
     "text": [
      "The number of customer got car: 296\n",
      "The number of customer didn't get car: 304\n"
     ]
    }
   ],
   "source": [
    "#Convert column \"car\": NO:0, YES:1\n",
    "temp = np.array(table[:,7])\n",
    "car = np.zeros(len(temp))\n",
    "car[temp=='YES'] = 1\n",
    "print(\"The number of customer got car:\", np.sum(car == 1))\n",
    "print(\"The number of customer didn't get car:\",np.sum(car == 0))"
   ]
  },
  {
   "cell_type": "markdown",
   "metadata": {},
   "source": [
    "Column 'savings_acct': convert this column into integer and calculate the number of whether the user has a savings account."
   ]
  },
  {
   "cell_type": "code",
   "execution_count": 16,
   "metadata": {},
   "outputs": [
    {
     "name": "stdout",
     "output_type": "stream",
     "text": [
      "The number of customer has saving account: 414\n",
      "The number of customer didn't get a saving account: 186\n"
     ]
    }
   ],
   "source": [
    "#Convert column \"savings_acct\": NO:0, YES:1\n",
    "temp = np.array(table[:,8])\n",
    "savings_acct = np.zeros(len(temp))\n",
    "savings_acct[temp=='YES'] = 1\n",
    "print(\"The number of customer has saving account:\", np.sum(savings_acct == 1))\n",
    "print(\"The number of customer didn't get a saving account:\",np.sum(savings_acct == 0))"
   ]
  },
  {
   "cell_type": "markdown",
   "metadata": {},
   "source": [
    "Column 'current_acct': convert this column into integer and calculate the number of whether the user has a current account."
   ]
  },
  {
   "cell_type": "code",
   "execution_count": 17,
   "metadata": {},
   "outputs": [
    {
     "name": "stdout",
     "output_type": "stream",
     "text": [
      "The number of customer has current account: 455\n",
      "The number of customer didn't get a current account: 145\n"
     ]
    }
   ],
   "source": [
    "#Convert column \"current_acct\": NO:0, YES:1\n",
    "temp = np.array(table[:,9])\n",
    "current_acct = np.zeros(len(temp))\n",
    "current_acct[temp=='YES'] = 1\n",
    "print(\"The number of customer has current account:\", np.sum(current_acct == 1))\n",
    "print(\"The number of customer didn't get a current account:\",np.sum(current_acct == 0))"
   ]
  },
  {
   "cell_type": "markdown",
   "metadata": {},
   "source": [
    "Column 'mortgage': convert this column into integer and calculate the number of whether the user has a mortgage."
   ]
  },
  {
   "cell_type": "code",
   "execution_count": 18,
   "metadata": {},
   "outputs": [
    {
     "name": "stdout",
     "output_type": "stream",
     "text": [
      "The number of customer has mortgage: 209\n",
      "The number of customer doesn't has mortgage: 391\n"
     ]
    }
   ],
   "source": [
    "#Convert column \"mortgage\": NO:0, YES:1\n",
    "temp = np.array(table[:,10])\n",
    "mortgage = np.zeros(len(temp))\n",
    "mortgage[temp=='YES'] = 1\n",
    "print(\"The number of customer has mortgage:\", np.sum(mortgage == 1))\n",
    "print(\"The number of customer doesn't has mortgage:\",np.sum(mortgage == 0))"
   ]
  },
  {
   "cell_type": "markdown",
   "metadata": {},
   "source": [
    "Column 'pep': convert this column into integer and calculate the number of whether or not that customer has purchased a PEP."
   ]
  },
  {
   "cell_type": "code",
   "execution_count": 19,
   "metadata": {},
   "outputs": [
    {
     "name": "stdout",
     "output_type": "stream",
     "text": [
      "The number of customer has purchased a PEP: 274\n",
      "The number of customer didn't purchase a PEP: 326\n"
     ]
    }
   ],
   "source": [
    "#Convert column \"pep\": NO:0, YES:1\n",
    "temp = np.array(table[:,11])\n",
    "pep = np.zeros(len(temp))\n",
    "pep[temp=='YES'] = 1\n",
    "print(\"The number of customer has purchased a PEP:\", np.sum(pep == 1))\n",
    "print(\"The number of customer didn't purchase a PEP:\",np.sum(pep == 0))"
   ]
  },
  {
   "cell_type": "markdown",
   "metadata": {},
   "source": [
    "### 2. Suppose that the hypothetical bank is particularly interested in customers who buy the PEP (Personal Equity Plan) product. Compare and contrast the subsets of customers who buy and don't buy the PEP. Compute summaries (as in part 1) of the selected data with respect to all other attributes. Can you observe any significant differences between these segments of customers? Discuss your observations."
   ]
  },
  {
   "cell_type": "code",
   "execution_count": 20,
   "metadata": {},
   "outputs": [
    {
     "data": {
      "text/plain": [
       "array([[   48. , 17546. ,     1. ,     1. ,     1. ,     0. ,     0. ,     0. ,     0. ,     0. ,     1. ],\n",
       "       [   40. , 30085.1,     3. ,     0. ,     3. ,     1. ,     1. ,     0. ,     1. ,     1. ,     0. ],\n",
       "       [   51. , 16575.4,     0. ,     1. ,     1. ,     1. ,     1. ,     1. ,     1. ,     0. ,     0. ],\n",
       "       [   23. , 20375.4,     3. ,     1. ,     3. ,     1. ,     0. ,     0. ,     1. ,     0. ,     0. ],\n",
       "       [   57. , 50576.3,     0. ,     1. ,     2. ,     1. ,     0. ,     1. ,     0. ,     0. ,     0. ]])"
      ]
     },
     "execution_count": 20,
     "metadata": {},
     "output_type": "execute_result"
    }
   ],
   "source": [
    "table_covt_noid = np.array([age, income, children, gender, region, married, car, savings_acct, current_acct, mortgage, pep])\n",
    "table_covt_noid = table_covt_noid.T\n",
    "\n",
    "np.set_printoptions(linewidth=120, suppress=True)\n",
    "table_covt_noid[0:5]"
   ]
  },
  {
   "cell_type": "code",
   "execution_count": 21,
   "metadata": {},
   "outputs": [
    {
     "name": "stdout",
     "output_type": "stream",
     "text": [
      "          age     income  children  gender  region   married    car    savings  current  mortgage   pep\n"
     ]
    },
    {
     "data": {
      "text/plain": [
       "array([[ 1.    ,  0.7527,  0.0236,  0.0901,  0.0259,  0.0104,  0.0777,  0.1844, -0.0353, -0.0162,  0.1738],\n",
       "       [ 0.7527,  1.    ,  0.0368,  0.0238,  0.0236, -0.0084,  0.0816,  0.2662,  0.0316, -0.0147,  0.222 ],\n",
       "       [ 0.0236,  0.0368,  1.    ,  0.0142,  0.0128, -0.0487,  0.0365,  0.0415,  0.0062, -0.0743, -0.0577],\n",
       "       [ 0.0901,  0.0238,  0.0142,  1.    ,  0.0218, -0.0211, -0.0067, -0.0072,  0.0195, -0.0665, -0.0468],\n",
       "       [ 0.0259,  0.0236,  0.0128,  0.0218,  1.    ,  0.0083, -0.0088,  0.0729,  0.0064,  0.0171,  0.01  ],\n",
       "       [ 0.0104, -0.0084, -0.0487, -0.0211,  0.0083,  1.    , -0.0096,  0.0286, -0.06  , -0.0217, -0.1896],\n",
       "       [ 0.0777,  0.0816,  0.0365, -0.0067, -0.0088, -0.0096,  1.    ,  0.0343, -0.0348, -0.0077,  0.0189],\n",
       "       [ 0.1844,  0.2662,  0.0415, -0.0072,  0.0729,  0.0286,  0.0343,  1.    ,  0.0425, -0.0016, -0.0728],\n",
       "       [-0.0353,  0.0316,  0.0062,  0.0195,  0.0064, -0.06  , -0.0348,  0.0425,  1.    , -0.0367,  0.0251],\n",
       "       [-0.0162, -0.0147, -0.0743, -0.0665,  0.0171, -0.0217, -0.0077, -0.0016, -0.0367,  1.    , -0.0242],\n",
       "       [ 0.1738,  0.222 , -0.0577, -0.0468,  0.01  , -0.1896,  0.0189, -0.0728,  0.0251, -0.0242,  1.    ]])"
      ]
     },
     "execution_count": 21,
     "metadata": {},
     "output_type": "execute_result"
    }
   ],
   "source": [
    "#Now that the data is in all numeric form, we can apply techiquues such as corrlation analysis on the variables\n",
    "np.set_printoptions(precision=4, linewidth=120)\n",
    "print(\"          age     income  children  gender  region   married    car    savings  current  mortgage   pep\")\n",
    "np.corrcoef(table_covt_noid.T)\n",
    "\n",
    "#We can see there are strong relationship between \n",
    "#age, income, savings_acct and pep."
   ]
  },
  {
   "cell_type": "code",
   "execution_count": 22,
   "metadata": {},
   "outputs": [
    {
     "name": "stdout",
     "output_type": "stream",
     "text": [
      "[[   48 17546     1     1     1     0     0     0     0     0     1]\n",
      " [   57 37869     2     1     3     1     0     1     1     0     1]\n",
      " [   22  8877     0     0     2     0     0     0     1     0     1]\n",
      " [   44 15735     1     1     3     1     0     1     1     1     1]\n",
      " [   66 55204     1     1     3     1     1     1     1     1     1]]\n",
      "[[   40 30085     3     0     3     1     1     0     1     1     0]\n",
      " [   51 16575     0     1     1     1     1     1     1     0     0]\n",
      " [   23 20375     3     1     3     1     0     0     1     0     0]\n",
      " [   57 50576     0     1     2     1     0     1     0     0     0]\n",
      " [   58 24946     0     0     3     1     1     1     1     0     0]]\n"
     ]
    }
   ],
   "source": [
    "#Separate the table into two tables: purchased pep and didn't purchased pep\n",
    "temp = np.array(pep == 1)\n",
    "Purchased = np.array(table_covt_noid[temp], dtype = int)\n",
    "print(Purchased[0:5])\n",
    "\n",
    "temp = np.array(pep == 0)\n",
    "Didnt_Purchased = np.array(table_covt_noid[temp], dtype = int)\n",
    "print(Didnt_Purchased[0:5])"
   ]
  },
  {
   "cell_type": "code",
   "execution_count": 24,
   "metadata": {},
   "outputs": [
    {
     "name": "stdout",
     "output_type": "stream",
     "text": [
      "          age     income  children  gender  region   married    car    savings  current mortgage    pep\n"
     ]
    },
    {
     "data": {
      "text/plain": [
       "array([[ 1.    ,  0.7489,  0.2801,  0.13  ,  0.078 , -0.0034,  0.09  ,  0.2381, -0.0321, -0.096 ,     nan],\n",
       "       [ 0.7489,  1.    ,  0.396 ,  0.0202,  0.0966, -0.0334,  0.0986,  0.3968,  0.0027, -0.0955,     nan],\n",
       "       [ 0.2801,  0.396 ,  1.    ,  0.052 ,  0.0848,  0.1578,  0.0047,  0.3196,  0.046 , -0.1706,     nan],\n",
       "       [ 0.13  ,  0.0202,  0.052 ,  1.    ,  0.0427, -0.0746, -0.0362, -0.0142,  0.0328, -0.0565,     nan],\n",
       "       [ 0.078 ,  0.0966,  0.0848,  0.0427,  1.    ,  0.047 , -0.0004,  0.1018,  0.0766,  0.0185,     nan],\n",
       "       [-0.0034, -0.0334,  0.1578, -0.0746,  0.047 ,  1.    ,  0.0064,  0.0215, -0.0453,  0.1915,     nan],\n",
       "       [ 0.09  ,  0.0986,  0.0047, -0.0362, -0.0004,  0.0064,  1.    ,  0.013 , -0.0914, -0.0206,     nan],\n",
       "       [ 0.2381,  0.3968,  0.3196, -0.0142,  0.1018,  0.0215,  0.013 ,  1.    ,  0.0393, -0.1478,     nan],\n",
       "       [-0.0321,  0.0027,  0.046 ,  0.0328,  0.0766, -0.0453, -0.0914,  0.0393,  1.    , -0.0523,     nan],\n",
       "       [-0.096 , -0.0955, -0.1706, -0.0565,  0.0185,  0.1915, -0.0206, -0.1478, -0.0523,  1.    ,     nan],\n",
       "       [    nan,     nan,     nan,     nan,     nan,     nan,     nan,     nan,     nan,     nan,     nan]])"
      ]
     },
     "execution_count": 24,
     "metadata": {},
     "output_type": "execute_result"
    }
   ],
   "source": [
    "#check the correlation on Purchased pep table\n",
    "np.set_printoptions(precision=4, linewidth=120, suppress=True)\n",
    "print(\"          age     income  children  gender  region   married    car    savings  current mortgage    pep\")\n",
    "np.corrcoef(Purchased.T)\n",
    "\n",
    "#From the purchased table, we can see there is a strong relationship between \n",
    "#age, income, children, savings_acct, and mortgage."
   ]
  },
  {
   "cell_type": "code",
   "execution_count": 25,
   "metadata": {},
   "outputs": [
    {
     "name": "stdout",
     "output_type": "stream",
     "text": [
      "The number of customers who purchased pep: 274\n",
      "The average age of customers who purchased pep: 45\n",
      "The average income of customers who purchased pep: 30644\n",
      "The average children of customers who purchased pep: 1\n",
      "The sum of customers who doesn't have child and purchased pep: 96\n",
      "The sum of customers who has 1 child and purchased pep: 110\n",
      "The sum of customers who has 2 children and purchased pep: 55\n",
      "The sum of customers who has 3 children and purchased pep: 13\n",
      "The sum of customers who got married and purchased pep: 154\n",
      "The sum of customers who has asvings_acct and purchased pep: 179\n",
      "The sum of customers who doesn't have mortgage and purchased pep: 182\n"
     ]
    }
   ],
   "source": [
    "#the descriptive statistics on individuals who do buy PEP\n",
    "print(\"The number of customers who purchased pep:\", len(Purchased))\n",
    "print(\"The average age of customers who purchased pep:\", round(Purchased[:,:1].mean()))\n",
    "print(\"The average income of customers who purchased pep:\", round(Purchased[:,1:2].mean()))\n",
    "print(\"The average children of customers who purchased pep:\", round(Purchased[:,2:3].mean()))\n",
    "print(\"The sum of customers who doesn't have child and purchased pep:\", np.sum(Purchased[:,2:3]== 0))\n",
    "print(\"The sum of customers who has 1 child and purchased pep:\", np.sum(Purchased[:,2:3]== 1))\n",
    "print(\"The sum of customers who has 2 children and purchased pep:\", np.sum(Purchased[:,2:3]== 2))\n",
    "print(\"The sum of customers who has 3 children and purchased pep:\", np.sum(Purchased[:,2:3]== 3))\n",
    "print(\"The sum of customers who got married and purchased pep:\", np.sum(Purchased[:,5:6]==1))\n",
    "print(\"The sum of customers who has asvings_acct and purchased pep:\", np.sum(Purchased[:,7:8]==1))\n",
    "print(\"The sum of customers who doesn't have mortgage and purchased pep:\", np.sum(Purchased[:,9:10]==0))"
   ]
  },
  {
   "cell_type": "code",
   "execution_count": 26,
   "metadata": {},
   "outputs": [
    {
     "name": "stdout",
     "output_type": "stream",
     "text": [
      "          age     income  children  gender  region   married    car    savings  current  mortgage   pep\n"
     ]
    },
    {
     "data": {
      "text/plain": [
       "array([[ 1.    ,  0.7422, -0.1159,  0.0742, -0.023 ,  0.0916,  0.0633,  0.1668, -0.0471,  0.0583,     nan],\n",
       "       [ 0.7422,  1.    , -0.1901,  0.05  , -0.0544,  0.1115,  0.0609,  0.1802,  0.0498,  0.0734,     nan],\n",
       "       [-0.1159, -0.1901,  1.    , -0.0127, -0.0313, -0.2135,  0.0583, -0.1424, -0.0146, -0.0209,     nan],\n",
       "       [ 0.0742,  0.05  , -0.0127,  1.    ,  0.0043,  0.0113,  0.0197, -0.0075,  0.0108, -0.077 ,     nan],\n",
       "       [-0.023 , -0.0544, -0.0313,  0.0043,  1.    , -0.0261, -0.0165,  0.0479, -0.0537,  0.0164,     nan],\n",
       "       [ 0.0916,  0.1115, -0.2135,  0.0113, -0.0261,  1.    , -0.0181,  0.0086, -0.0667, -0.2318,     nan],\n",
       "       [ 0.0633,  0.0609,  0.0583,  0.0197, -0.0165, -0.0181,  1.    ,  0.0562,  0.0105,  0.0038,     nan],\n",
       "       [ 0.1668,  0.1802, -0.1424, -0.0075,  0.0479,  0.0086,  0.0562,  1.    ,  0.049 ,  0.1234,     nan],\n",
       "       [-0.0471,  0.0498, -0.0146,  0.0108, -0.0537, -0.0667,  0.0105,  0.049 ,  1.    , -0.0231,     nan],\n",
       "       [ 0.0583,  0.0734, -0.0209, -0.077 ,  0.0164, -0.2318,  0.0038,  0.1234, -0.0231,  1.    ,     nan],\n",
       "       [    nan,     nan,     nan,     nan,     nan,     nan,     nan,     nan,     nan,     nan,     nan]])"
      ]
     },
     "execution_count": 26,
     "metadata": {},
     "output_type": "execute_result"
    }
   ],
   "source": [
    "#check the correlation on Didnt_Purchased pep table\n",
    "np.set_printoptions(precision=4, linewidth=120, suppress=True)\n",
    "print(\"          age     income  children  gender  region   married    car    savings  current  mortgage   pep\")\n",
    "np.corrcoef(Didnt_Purchased.T)\n",
    "\n",
    "#From the didn't purchased table, we can see there is a strong relationship between\n",
    "#age, income, children, married, savings_acct and mortgage"
   ]
  },
  {
   "cell_type": "code",
   "execution_count": 27,
   "metadata": {
    "scrolled": true
   },
   "outputs": [
    {
     "name": "stdout",
     "output_type": "stream",
     "text": [
      "The number of customers who didn't purchased pep: 326\n",
      "The average age of customers who didn't purchased pep: 40\n",
      "The average income of customers who didn't purchased pep: 24900\n",
      "The average children of customers who didn't purchased pep: 1\n",
      "The sum of customers who doesn't have child and didn't purchased pep: 167\n",
      "The sum of customers who has 1 child and didn't purchased pep: 25\n",
      "The sum of customers who has 2 children and didn't purchased pep: 79\n",
      "The sum of customers who has 3 children and didn't purchased pep: 55\n",
      "The sum of customers who got married and didn't purchased pep: 242\n",
      "The sum of customers who has asvings_acct and purchased pep: 179\n",
      "The sum of customers who dosen't have asvings_acct and didn't purchased pep: 91\n"
     ]
    }
   ],
   "source": [
    "#the descriptive statistics on individuals who do buy PEP\n",
    "print(\"The number of customers who didn't purchased pep:\", len(Didnt_Purchased))\n",
    "print(\"The average age of customers who didn't purchased pep:\", round(Didnt_Purchased[:,:1].mean()))\n",
    "print(\"The average income of customers who didn't purchased pep:\", round(Didnt_Purchased[:,1:2].mean()))\n",
    "print(\"The average children of customers who didn't purchased pep:\", round(Didnt_Purchased[:,2:3].mean()))\n",
    "print(\"The sum of customers who doesn't have child and didn't purchased pep:\", np.sum(Didnt_Purchased[:,2:3]== 0))\n",
    "print(\"The sum of customers who has 1 child and didn't purchased pep:\", np.sum(Didnt_Purchased[:,2:3]== 1))\n",
    "print(\"The sum of customers who has 2 children and didn't purchased pep:\", np.sum(Didnt_Purchased[:,2:3]== 2))\n",
    "print(\"The sum of customers who has 3 children and didn't purchased pep:\", np.sum(Didnt_Purchased[:,2:3]== 3))\n",
    "print(\"The sum of customers who got married and didn't purchased pep:\", np.sum(Didnt_Purchased[:,5:6]==1))\n",
    "print(\"The sum of customers who has asvings_acct and purchased pep:\", np.sum(Purchased[:,7:8]==1))\n",
    "print(\"The sum of customers who dosen't have asvings_acct and didn't purchased pep:\", np.sum(Didnt_Purchased[:,7:8]==0))"
   ]
  },
  {
   "cell_type": "markdown",
   "metadata": {},
   "source": [
    "#### Observations"
   ]
  },
  {
   "cell_type": "code",
   "execution_count": 28,
   "metadata": {},
   "outputs": [],
   "source": [
    "#by comparing the purchased and didn't_purchased tables, we can see\n",
    "# 1. the average age of customers who purchased pep is older about 5 years than the customer who didn't buy pep;\n",
    "# 2. the average income of customers who purchased pep make more money about $6,000.\n",
    "# 3. the percentage of people who didn't get married and buy pep is quite smaller than \n",
    "# the percentage of people who didn't get married and didn't purchase.\n",
    "# 4. the percentage of people who doesn't have kid and didn't purchase pep is bigger than \n",
    "# the percentage of people who doesn't have kid but purchase the pep."
   ]
  },
  {
   "cell_type": "markdown",
   "metadata": {},
   "source": [
    "### 3. Use z-score normalization to standardize the values of the income attribute. [Do not change the original income attribute in the table.]"
   ]
  },
  {
   "cell_type": "code",
   "execution_count": 29,
   "metadata": {},
   "outputs": [
    {
     "name": "stdout",
     "output_type": "stream",
     "text": [
      "[-0.7742  0.1987 -0.8495 -0.5546  1.7886  0.8027 -1.4468 -0.2    -0.1722 -0.257   2.5045 -0.0671 -0.9146  2.1477\n",
      " -0.6245 -0.4021 -0.7599  1.0468 -0.0477 -0.388   2.3553 -0.8555  0.8475 -0.9299 -1.1548  1.0482 -0.5209 -0.5749\n",
      "  0.1424 -0.2525 -0.3554 -0.8688 -0.3166  0.186   0.7757 -0.594  -1.2857 -1.0973 -0.6998 -0.1655 -0.0582 -0.0443]\n"
     ]
    }
   ],
   "source": [
    "income_mean = income.mean()\n",
    "income_std = income.std()\n",
    "income_znorm = (income-income_mean)/income_std\n",
    "print(income_znorm[0:42])"
   ]
  },
  {
   "cell_type": "markdown",
   "metadata": {},
   "source": [
    "### 4. Discretize the age attribute into 3 categories (corresponding to \"young\", \"mid-age\", and \"old\"). [Do not change the original age attribute in the table.]"
   ]
  },
  {
   "cell_type": "code",
   "execution_count": 30,
   "metadata": {},
   "outputs": [
    {
     "name": "stdout",
     "output_type": "stream",
     "text": [
      "[48 40 51 23 57 57 22 58 37 54]\n",
      "['mid-age', 'mid-age', 'mid-age', 'young', 'old', 'old', 'young', 'old', 'mid-age', 'mid-age']\n",
      "Categories (3, object): ['young' < 'mid-age' < 'old']\n"
     ]
    }
   ],
   "source": [
    "bins = [18,30,55,67]\n",
    "labels = [\"young\", \"mid-age\", \"old\"]\n",
    "levels = pd.cut(age, bins=bins, labels=labels)\n",
    "\n",
    "print(age[0:10])\n",
    "print(levels[0:10])"
   ]
  },
  {
   "cell_type": "markdown",
   "metadata": {},
   "source": [
    "### 5. Use Min-Max Normalization to transform the values of all numeric attributes  (income, age, children) in the original table (before the transformations in parts 3 and 4 above) onto the range 0.0-1.0."
   ]
  },
  {
   "cell_type": "code",
   "execution_count": 31,
   "metadata": {},
   "outputs": [
    {
     "name": "stdout",
     "output_type": "stream",
     "text": [
      "[0.61224 0.44898 0.67347 0.10204 0.79592 0.79592 0.08163 0.81633 0.38776\n",
      " 0.73469 0.97959 0.69388 0.53061 0.97959 0.36735 0.40816 0.38776 0.57143\n",
      " 0.89796 0.26531 0.87755 0.65306 0.73469 0.18367 0.08163 0.77551 0.55102\n",
      " 0.42857 0.42857 0.87755 0.87755 0.04082 0.55102 0.30612 0.5102  0.18367\n",
      " 0.02041 0.36735 0.5102  0.97959 0.7551  0.59184]\n",
      "\n",
      "\n",
      "[0.21563 0.43139 0.19893 0.26432 0.78399 0.56534 0.06647 0.34298 0.34913\n",
      " 0.33034 0.94277 0.37244 0.18449 0.86363 0.24882 0.29816 0.2188  0.61948\n",
      " 0.37675 0.30127 0.90967 0.19759 0.57527 0.1811  0.13122 0.61979 0.27179\n",
      " 0.25982 0.4189  0.33134 0.3085  0.19464 0.31711 0.42858 0.55936 0.25559\n",
      " 0.10219 0.14397 0.23212 0.35063 0.37442 0.37749]\n",
      "\n",
      "\n",
      "[0.33333 1.      0.      1.      0.      0.66667 0.      0.      0.66667\n",
      " 0.66667 0.      0.      0.33333 0.33333 0.      0.      0.66667 0.\n",
      " 0.      0.      0.66667 0.66667 0.      0.      0.66667 0.      0.\n",
      " 0.33333 1.      0.33333 0.66667 0.66667 0.33333 1.      0.      0.66667\n",
      " 1.      0.      0.      0.66667 0.      0.     ]\n"
     ]
    }
   ],
   "source": [
    "np.set_printoptions(precision=5, linewidth=80, suppress=True)\n",
    "\n",
    "#age\n",
    "age_range = age.max() - age.min()\n",
    "norm_age = (age - age.min()) / age_range\n",
    "print (norm_age[0:42])\n",
    "print('\\n')\n",
    "\n",
    "#income\n",
    "income_range = income.max() - income.min()\n",
    "norm_income = (income - income.min()) / income_range\n",
    "print (norm_income[0:42])\n",
    "print('\\n')\n",
    "\n",
    "#children\n",
    "children_range = children.max() - children.min()\n",
    "norm_children = (children - children.min()) / children_range\n",
    "print (norm_children[0:42])"
   ]
  },
  {
   "cell_type": "markdown",
   "metadata": {},
   "source": [
    "### 6. Combined the normalized numbers from part 5 with dummy variables for the categorical attributes into one table/frame. All attributes should then be numeric and no attribute should be repeated. Save this new data matrix into a file called bank_numeric.csv and submit it along with your assignment. [Hint: you might consider using the get_dummies for Pandas data frames.]"
   ]
  },
  {
   "cell_type": "code",
   "execution_count": 32,
   "metadata": {},
   "outputs": [],
   "source": [
    "#dummy variables:gender, region, married, car, savings_acct, current_acct, mortgage, pep\n",
    "#gender\n",
    "Female = np.zeros(len(gender))\n",
    "Male = np.zeros(len(gender))\n",
    "Female[gender == 1] = 1\n",
    "Male[gender == 0] = 1\n",
    "\n",
    "#region: ['INNER_CITY' 'RURAL' 'SUBURBAN' 'TOWN']\n",
    "rg_INNER_CITY = np.zeros(len(region))\n",
    "rg_RURAL = np.zeros(len(region))\n",
    "rg_SUBURBAN = np.zeros(len(region))\n",
    "rg_TOWN = np.zeros(len(region))\n",
    "rg_INNER_CITY[region == 1] = 1\n",
    "rg_RURAL[region == 2] = 1\n",
    "rg_SUBURBAN[region == 4] = 1\n",
    "rg_TOWN[region == 3] = 1\n",
    "\n",
    "#married\n",
    "married_YES = np.zeros(len(married))\n",
    "married_NO = np.zeros(len(married))\n",
    "married_YES[married == 1] =1\n",
    "married_NO[married == 0] =1\n",
    "\n",
    "#car\n",
    "car_YES = np.zeros(len(car))\n",
    "car_NO = np.zeros(len(car))\n",
    "car_YES[car == 1] = 1\n",
    "car_NO[car == 0] = 1\n",
    "\n",
    "#savings_acct\n",
    "savings_acct_YES = np.zeros(len(savings_acct))\n",
    "savings_acct_NO = np.zeros(len(savings_acct))\n",
    "savings_acct_YES[savings_acct == 1] = 1\n",
    "savings_acct_NO[savings_acct == 0] = 1\n",
    "\n",
    "#current_acct\n",
    "current_acct_YES = np.zeros(len(current_acct))\n",
    "current_acct_NO = np.zeros(len(current_acct))\n",
    "current_acct_YES[current_acct == 1] = 1\n",
    "current_acct_NO[current_acct == 0] = 1\n",
    "\n",
    "#mortgage\n",
    "mortgage_YES = np.zeros(len(mortgage))\n",
    "mortgage_NO = np.zeros(len(mortgage))\n",
    "mortgage_YES[mortgage == 1] = 1\n",
    "mortgage_NO[mortgage == 0] = 1\n",
    "\n",
    "#PEP\n",
    "pep_YES = np.zeros(len(pep))\n",
    "pep_NO = np.zeros(len(pep))\n",
    "pep_YES[pep == 1] = 1\n",
    "pep_NO[pep == 0] = 1"
   ]
  },
  {
   "cell_type": "code",
   "execution_count": 33,
   "metadata": {},
   "outputs": [
    {
     "data": {
      "text/plain": [
       "array([[0.6122, 0.2156, 0.3333, 1.    , 0.    , 1.    , 0.    , 0.    , 0.    , 0.    , 1.    , 0.    , 1.    ,\n",
       "        0.    , 1.    , 0.    , 1.    , 0.    , 1.    , 1.    , 0.    ],\n",
       "       [0.449 , 0.4314, 1.    , 0.    , 1.    , 0.    , 0.    , 0.    , 1.    , 1.    , 0.    , 1.    , 0.    ,\n",
       "        0.    , 1.    , 1.    , 0.    , 1.    , 0.    , 0.    , 1.    ],\n",
       "       [0.6735, 0.1989, 0.    , 1.    , 0.    , 1.    , 0.    , 0.    , 0.    , 1.    , 0.    , 1.    , 0.    ,\n",
       "        1.    , 0.    , 1.    , 0.    , 0.    , 1.    , 0.    , 1.    ],\n",
       "       [0.102 , 0.2643, 1.    , 1.    , 0.    , 0.    , 0.    , 0.    , 1.    , 1.    , 0.    , 0.    , 1.    ,\n",
       "        0.    , 1.    , 1.    , 0.    , 0.    , 1.    , 0.    , 1.    ],\n",
       "       [0.7959, 0.784 , 0.    , 1.    , 0.    , 0.    , 1.    , 0.    , 0.    , 1.    , 0.    , 0.    , 1.    ,\n",
       "        1.    , 0.    , 0.    , 1.    , 0.    , 1.    , 0.    , 1.    ]])"
      ]
     },
     "execution_count": 33,
     "metadata": {},
     "output_type": "execute_result"
    }
   ],
   "source": [
    "#Combine into a bank_numeric table\n",
    "bank_numeric = np.array([norm_age, norm_income, norm_children, Female, Male, rg_INNER_CITY, rg_RURAL, rg_SUBURBAN, rg_TOWN, married_YES, married_NO, car_YES, car_NO, savings_acct_YES, savings_acct_NO, current_acct_YES, current_acct_NO, mortgage_YES, mortgage_NO, pep_YES, pep_NO])\n",
    "bank_numeric = bank_numeric.T\n",
    "\n",
    "np.set_printoptions(precision=4, linewidth=120, suppress=True)\n",
    "bank_numeric[:5]"
   ]
  },
  {
   "cell_type": "code",
   "execution_count": 34,
   "metadata": {},
   "outputs": [],
   "source": [
    "#save the table into csv file\n",
    "np.savetxt(\"bank_numeric.csv\", bank_numeric, delimiter=',', header=\"norm_age, norm_income, norm_children, Female, Male, rg_INNER_CITY, rg_RURAL, rg_SUBURBAN, rg_TOWN, married_YES, married_NO, car_YES, car_NO, savings_acct_YES, savings_acct_NO, current_acct_YES, current_acct_NO, mortgage_YES, mortgage_NO, pep_YES, pep_NO\", comments=\"\",fmt='%f,%f,%f,%d,%d,%d,%d,%d,%d,%d,%d,%d,%d,%d,%d,%d,%d,%d,%d,%d,%d')"
   ]
  },
  {
   "cell_type": "code",
   "execution_count": 35,
   "metadata": {},
   "outputs": [],
   "source": [
    "more bank_numeric.csv"
   ]
  },
  {
   "cell_type": "markdown",
   "metadata": {},
   "source": [
    "### 7. Using the standardized data set (of the previous part), perform basic correlation analysis among the attributes. Discuss your results by indicating any significant positive or negative correlations among pairs of attributes. You need to construct a complete Correlation Matrix. Be sure to first remove the Customer ID column before creating the correlation matrix. [Hint: you can create the correlation matrix by using the corr() function in Pandas, try at least two corr methods and compare them]."
   ]
  },
  {
   "cell_type": "code",
   "execution_count": 36,
   "metadata": {},
   "outputs": [
    {
     "data": {
      "text/plain": [
       "array([[ 1.    ,  0.7527,  0.0236,  0.0901, -0.0901, -0.0252,  0.0186,  0.0313, -0.0085,  0.0104, -0.0104,  0.0777,\n",
       "        -0.0777,  0.1844, -0.1844, -0.0353,  0.0353, -0.0162,  0.0162,  0.1738, -0.1738],\n",
       "       [ 0.7527,  1.    ,  0.0368,  0.0238, -0.0238, -0.0476,  0.0848,  0.0298, -0.0364, -0.0084,  0.0084,  0.0816,\n",
       "        -0.0816,  0.2662, -0.2662,  0.0316, -0.0316, -0.0147,  0.0147,  0.222 , -0.222 ],\n",
       "       [ 0.0236,  0.0368,  1.    ,  0.0142, -0.0142, -0.0512,  0.0899, -0.0141, -0.007 , -0.0487,  0.0487,  0.0365,\n",
       "        -0.0365,  0.0415, -0.0415,  0.0062, -0.0062, -0.0743,  0.0743, -0.0577,  0.0577],\n",
       "       [ 0.0901,  0.0238,  0.0142,  1.    , -1.    , -0.0235, -0.0091, -0.011 ,  0.0405, -0.0211,  0.0211, -0.0067,\n",
       "         0.0067, -0.0072,  0.0072,  0.0195, -0.0195, -0.0665,  0.0665, -0.0468,  0.0468],\n",
       "       [-0.0901, -0.0238, -0.0142, -1.    ,  1.    ,  0.0235,  0.0091,  0.011 , -0.0405,  0.0211, -0.0211,  0.0067,\n",
       "        -0.0067,  0.0072, -0.0072, -0.0195,  0.0195,  0.0665, -0.0665,  0.0468, -0.0468],\n",
       "       [-0.0252, -0.0476, -0.0512, -0.0235,  0.0235,  1.    , -0.3934, -0.306 , -0.5738,  0.0033, -0.0033, -0.0181,\n",
       "         0.0181, -0.0914,  0.0914,  0.0079, -0.0079,  0.0021, -0.0021,  0.0011, -0.0011],\n",
       "       [ 0.0186,  0.0848,  0.0899, -0.0091,  0.0091, -0.3934,  1.    , -0.1482, -0.2778, -0.0226,  0.0226,  0.024 ,\n",
       "        -0.024 ,  0.037 , -0.037 , -0.0085,  0.0085, -0.0519,  0.0519,  0.0197, -0.0197],\n",
       "       [ 0.0313,  0.0298, -0.0141, -0.011 ,  0.011 , -0.306 , -0.1482,  1.    , -0.2161,  0.0125, -0.0125, -0.0612,\n",
       "         0.0612,  0.0026, -0.0026,  0.0382, -0.0382,  0.0046, -0.0046,  0.0625, -0.0625],\n",
       "       [-0.0085, -0.0364, -0.007 ,  0.0405, -0.0405, -0.5738, -0.2778, -0.2161,  1.    ,  0.0064, -0.0064,  0.0416,\n",
       "        -0.0416,  0.0687, -0.0687, -0.0274,  0.0274,  0.0366, -0.0366, -0.0591,  0.0591],\n",
       "       [ 0.0104, -0.0084, -0.0487, -0.0211,  0.0211,  0.0033, -0.0226,  0.0125,  0.0064,  1.    , -1.    , -0.0096,\n",
       "         0.0096,  0.0286, -0.0286, -0.06  ,  0.06  , -0.0217,  0.0217, -0.1896,  0.1896],\n",
       "       [-0.0104,  0.0084,  0.0487,  0.0211, -0.0211, -0.0033,  0.0226, -0.0125, -0.0064, -1.    ,  1.    ,  0.0096,\n",
       "        -0.0096, -0.0286,  0.0286,  0.06  , -0.06  ,  0.0217, -0.0217,  0.1896, -0.1896],\n",
       "       [ 0.0777,  0.0816,  0.0365, -0.0067,  0.0067, -0.0181,  0.024 , -0.0612,  0.0416, -0.0096,  0.0096,  1.    ,\n",
       "        -1.    ,  0.0343, -0.0343, -0.0348,  0.0348, -0.0077,  0.0077,  0.0189, -0.0189],\n",
       "       [-0.0777, -0.0816, -0.0365,  0.0067, -0.0067,  0.0181, -0.024 ,  0.0612, -0.0416,  0.0096, -0.0096, -1.    ,\n",
       "         1.    , -0.0343,  0.0343,  0.0348, -0.0348,  0.0077, -0.0077, -0.0189,  0.0189],\n",
       "       [ 0.1844,  0.2662,  0.0415, -0.0072,  0.0072, -0.0914,  0.037 ,  0.0026,  0.0687,  0.0286, -0.0286,  0.0343,\n",
       "        -0.0343,  1.    , -1.    ,  0.0425, -0.0425, -0.0016,  0.0016, -0.0728,  0.0728],\n",
       "       [-0.1844, -0.2662, -0.0415,  0.0072, -0.0072,  0.0914, -0.037 , -0.0026, -0.0687, -0.0286,  0.0286, -0.0343,\n",
       "         0.0343, -1.    ,  1.    , -0.0425,  0.0425,  0.0016, -0.0016,  0.0728, -0.0728],\n",
       "       [-0.0353,  0.0316,  0.0062,  0.0195, -0.0195,  0.0079, -0.0085,  0.0382, -0.0274, -0.06  ,  0.06  , -0.0348,\n",
       "         0.0348,  0.0425, -0.0425,  1.    , -1.    , -0.0367,  0.0367,  0.0251, -0.0251],\n",
       "       [ 0.0353, -0.0316, -0.0062, -0.0195,  0.0195, -0.0079,  0.0085, -0.0382,  0.0274,  0.06  , -0.06  ,  0.0348,\n",
       "        -0.0348, -0.0425,  0.0425, -1.    ,  1.    ,  0.0367, -0.0367, -0.0251,  0.0251],\n",
       "       [-0.0162, -0.0147, -0.0743, -0.0665,  0.0665,  0.0021, -0.0519,  0.0046,  0.0366, -0.0217,  0.0217, -0.0077,\n",
       "         0.0077, -0.0016,  0.0016, -0.0367,  0.0367,  1.    , -1.    , -0.0242,  0.0242],\n",
       "       [ 0.0162,  0.0147,  0.0743,  0.0665, -0.0665, -0.0021,  0.0519, -0.0046, -0.0366,  0.0217, -0.0217,  0.0077,\n",
       "        -0.0077,  0.0016, -0.0016,  0.0367, -0.0367, -1.    ,  1.    ,  0.0242, -0.0242],\n",
       "       [ 0.1738,  0.222 , -0.0577, -0.0468,  0.0468,  0.0011,  0.0197,  0.0625, -0.0591, -0.1896,  0.1896,  0.0189,\n",
       "        -0.0189, -0.0728,  0.0728,  0.0251, -0.0251, -0.0242,  0.0242,  1.    , -1.    ],\n",
       "       [-0.1738, -0.222 ,  0.0577,  0.0468, -0.0468, -0.0011, -0.0197, -0.0625,  0.0591,  0.1896, -0.1896, -0.0189,\n",
       "         0.0189,  0.0728, -0.0728, -0.0251,  0.0251,  0.0242, -0.0242, -1.    ,  1.    ]])"
      ]
     },
     "execution_count": 36,
     "metadata": {},
     "output_type": "execute_result"
    }
   ],
   "source": [
    "np.set_printoptions(precision=4, linewidth=120, suppress=True)\n",
    "np.corrcoef(bank_numeric.T)"
   ]
  },
  {
   "cell_type": "code",
   "execution_count": 37,
   "metadata": {},
   "outputs": [
    {
     "data": {
      "text/html": [
       "<div>\n",
       "<style scoped>\n",
       "    .dataframe tbody tr th:only-of-type {\n",
       "        vertical-align: middle;\n",
       "    }\n",
       "\n",
       "    .dataframe tbody tr th {\n",
       "        vertical-align: top;\n",
       "    }\n",
       "\n",
       "    .dataframe thead th {\n",
       "        text-align: right;\n",
       "    }\n",
       "</style>\n",
       "<table border=\"1\" class=\"dataframe\">\n",
       "  <thead>\n",
       "    <tr style=\"text-align: right;\">\n",
       "      <th></th>\n",
       "      <th>norm_age</th>\n",
       "      <th>norm_income</th>\n",
       "      <th>norm_children</th>\n",
       "      <th>Female</th>\n",
       "      <th>Male</th>\n",
       "      <th>rg_INNER_CITY</th>\n",
       "      <th>rg_RURAL</th>\n",
       "      <th>rg_SUBURBAN</th>\n",
       "      <th>rg_TOWN</th>\n",
       "      <th>married_YES</th>\n",
       "      <th>...</th>\n",
       "      <th>car_YES</th>\n",
       "      <th>car_NO</th>\n",
       "      <th>savings_acct_YES</th>\n",
       "      <th>savings_acct_NO</th>\n",
       "      <th>current_acct_YES</th>\n",
       "      <th>current_acct_NO</th>\n",
       "      <th>mortgage_YES</th>\n",
       "      <th>mortgage_NO</th>\n",
       "      <th>pep_YES</th>\n",
       "      <th>pep_NO</th>\n",
       "    </tr>\n",
       "  </thead>\n",
       "  <tbody>\n",
       "    <tr>\n",
       "      <th>norm_age</th>\n",
       "      <td>1.000000</td>\n",
       "      <td>0.752726</td>\n",
       "      <td>0.023572</td>\n",
       "      <td>0.090081</td>\n",
       "      <td>-0.090081</td>\n",
       "      <td>-0.025171</td>\n",
       "      <td>0.018635</td>\n",
       "      <td>0.031345</td>\n",
       "      <td>-0.008510</td>\n",
       "      <td>0.010394</td>\n",
       "      <td>...</td>\n",
       "      <td>0.077733</td>\n",
       "      <td>-0.077733</td>\n",
       "      <td>0.184389</td>\n",
       "      <td>-0.184389</td>\n",
       "      <td>-0.035312</td>\n",
       "      <td>0.035312</td>\n",
       "      <td>-0.016154</td>\n",
       "      <td>0.016154</td>\n",
       "      <td>0.173825</td>\n",
       "      <td>-0.173825</td>\n",
       "    </tr>\n",
       "    <tr>\n",
       "      <th>norm_income</th>\n",
       "      <td>0.752726</td>\n",
       "      <td>1.000000</td>\n",
       "      <td>0.036761</td>\n",
       "      <td>0.023845</td>\n",
       "      <td>-0.023845</td>\n",
       "      <td>-0.047564</td>\n",
       "      <td>0.084776</td>\n",
       "      <td>0.029824</td>\n",
       "      <td>-0.036431</td>\n",
       "      <td>-0.008386</td>\n",
       "      <td>...</td>\n",
       "      <td>0.081556</td>\n",
       "      <td>-0.081556</td>\n",
       "      <td>0.266164</td>\n",
       "      <td>-0.266164</td>\n",
       "      <td>0.031616</td>\n",
       "      <td>-0.031616</td>\n",
       "      <td>-0.014662</td>\n",
       "      <td>0.014662</td>\n",
       "      <td>0.221991</td>\n",
       "      <td>-0.221991</td>\n",
       "    </tr>\n",
       "    <tr>\n",
       "      <th>norm_children</th>\n",
       "      <td>0.023572</td>\n",
       "      <td>0.036761</td>\n",
       "      <td>1.000000</td>\n",
       "      <td>0.014206</td>\n",
       "      <td>-0.014206</td>\n",
       "      <td>-0.051222</td>\n",
       "      <td>0.089902</td>\n",
       "      <td>-0.014122</td>\n",
       "      <td>-0.007033</td>\n",
       "      <td>-0.048716</td>\n",
       "      <td>...</td>\n",
       "      <td>0.036455</td>\n",
       "      <td>-0.036455</td>\n",
       "      <td>0.041536</td>\n",
       "      <td>-0.041536</td>\n",
       "      <td>0.006238</td>\n",
       "      <td>-0.006238</td>\n",
       "      <td>-0.074339</td>\n",
       "      <td>0.074339</td>\n",
       "      <td>-0.057663</td>\n",
       "      <td>0.057663</td>\n",
       "    </tr>\n",
       "    <tr>\n",
       "      <th>Female</th>\n",
       "      <td>0.090081</td>\n",
       "      <td>0.023845</td>\n",
       "      <td>0.014206</td>\n",
       "      <td>1.000000</td>\n",
       "      <td>-1.000000</td>\n",
       "      <td>-0.023459</td>\n",
       "      <td>-0.009092</td>\n",
       "      <td>-0.010951</td>\n",
       "      <td>0.040472</td>\n",
       "      <td>-0.021110</td>\n",
       "      <td>...</td>\n",
       "      <td>-0.006667</td>\n",
       "      <td>0.006667</td>\n",
       "      <td>-0.007207</td>\n",
       "      <td>0.007207</td>\n",
       "      <td>0.019466</td>\n",
       "      <td>-0.019466</td>\n",
       "      <td>-0.066465</td>\n",
       "      <td>0.066465</td>\n",
       "      <td>-0.046843</td>\n",
       "      <td>0.046843</td>\n",
       "    </tr>\n",
       "    <tr>\n",
       "      <th>Male</th>\n",
       "      <td>-0.090081</td>\n",
       "      <td>-0.023845</td>\n",
       "      <td>-0.014206</td>\n",
       "      <td>-1.000000</td>\n",
       "      <td>1.000000</td>\n",
       "      <td>0.023459</td>\n",
       "      <td>0.009092</td>\n",
       "      <td>0.010951</td>\n",
       "      <td>-0.040472</td>\n",
       "      <td>0.021110</td>\n",
       "      <td>...</td>\n",
       "      <td>0.006667</td>\n",
       "      <td>-0.006667</td>\n",
       "      <td>0.007207</td>\n",
       "      <td>-0.007207</td>\n",
       "      <td>-0.019466</td>\n",
       "      <td>0.019466</td>\n",
       "      <td>0.066465</td>\n",
       "      <td>-0.066465</td>\n",
       "      <td>0.046843</td>\n",
       "      <td>-0.046843</td>\n",
       "    </tr>\n",
       "    <tr>\n",
       "      <th>rg_INNER_CITY</th>\n",
       "      <td>-0.025171</td>\n",
       "      <td>-0.047564</td>\n",
       "      <td>-0.051222</td>\n",
       "      <td>-0.023459</td>\n",
       "      <td>0.023459</td>\n",
       "      <td>1.000000</td>\n",
       "      <td>-0.393444</td>\n",
       "      <td>-0.306032</td>\n",
       "      <td>-0.573814</td>\n",
       "      <td>0.003254</td>\n",
       "      <td>...</td>\n",
       "      <td>-0.018143</td>\n",
       "      <td>0.018143</td>\n",
       "      <td>-0.091373</td>\n",
       "      <td>0.091373</td>\n",
       "      <td>0.007894</td>\n",
       "      <td>-0.007894</td>\n",
       "      <td>0.002098</td>\n",
       "      <td>-0.002098</td>\n",
       "      <td>0.001054</td>\n",
       "      <td>-0.001054</td>\n",
       "    </tr>\n",
       "    <tr>\n",
       "      <th>rg_RURAL</th>\n",
       "      <td>0.018635</td>\n",
       "      <td>0.084776</td>\n",
       "      <td>0.089902</td>\n",
       "      <td>-0.009092</td>\n",
       "      <td>0.009092</td>\n",
       "      <td>-0.393444</td>\n",
       "      <td>1.000000</td>\n",
       "      <td>-0.148158</td>\n",
       "      <td>-0.277798</td>\n",
       "      <td>-0.022649</td>\n",
       "      <td>...</td>\n",
       "      <td>0.024006</td>\n",
       "      <td>-0.024006</td>\n",
       "      <td>0.036960</td>\n",
       "      <td>-0.036960</td>\n",
       "      <td>-0.008496</td>\n",
       "      <td>0.008496</td>\n",
       "      <td>-0.051908</td>\n",
       "      <td>0.051908</td>\n",
       "      <td>0.019714</td>\n",
       "      <td>-0.019714</td>\n",
       "    </tr>\n",
       "    <tr>\n",
       "      <th>rg_SUBURBAN</th>\n",
       "      <td>0.031345</td>\n",
       "      <td>0.029824</td>\n",
       "      <td>-0.014122</td>\n",
       "      <td>-0.010951</td>\n",
       "      <td>0.010951</td>\n",
       "      <td>-0.306032</td>\n",
       "      <td>-0.148158</td>\n",
       "      <td>1.000000</td>\n",
       "      <td>-0.216080</td>\n",
       "      <td>0.012483</td>\n",
       "      <td>...</td>\n",
       "      <td>-0.061184</td>\n",
       "      <td>0.061184</td>\n",
       "      <td>0.002605</td>\n",
       "      <td>-0.002605</td>\n",
       "      <td>0.038157</td>\n",
       "      <td>-0.038157</td>\n",
       "      <td>0.004635</td>\n",
       "      <td>-0.004635</td>\n",
       "      <td>0.062508</td>\n",
       "      <td>-0.062508</td>\n",
       "    </tr>\n",
       "    <tr>\n",
       "      <th>rg_TOWN</th>\n",
       "      <td>-0.008510</td>\n",
       "      <td>-0.036431</td>\n",
       "      <td>-0.007033</td>\n",
       "      <td>0.040472</td>\n",
       "      <td>-0.040472</td>\n",
       "      <td>-0.573814</td>\n",
       "      <td>-0.277798</td>\n",
       "      <td>-0.216080</td>\n",
       "      <td>1.000000</td>\n",
       "      <td>0.006369</td>\n",
       "      <td>...</td>\n",
       "      <td>0.041604</td>\n",
       "      <td>-0.041604</td>\n",
       "      <td>0.068654</td>\n",
       "      <td>-0.068654</td>\n",
       "      <td>-0.027431</td>\n",
       "      <td>0.027431</td>\n",
       "      <td>0.036591</td>\n",
       "      <td>-0.036591</td>\n",
       "      <td>-0.059115</td>\n",
       "      <td>0.059115</td>\n",
       "    </tr>\n",
       "    <tr>\n",
       "      <th>married_YES</th>\n",
       "      <td>0.010394</td>\n",
       "      <td>-0.008386</td>\n",
       "      <td>-0.048716</td>\n",
       "      <td>-0.021110</td>\n",
       "      <td>0.021110</td>\n",
       "      <td>0.003254</td>\n",
       "      <td>-0.022649</td>\n",
       "      <td>0.012483</td>\n",
       "      <td>0.006369</td>\n",
       "      <td>1.000000</td>\n",
       "      <td>...</td>\n",
       "      <td>-0.009571</td>\n",
       "      <td>0.009571</td>\n",
       "      <td>0.028604</td>\n",
       "      <td>-0.028604</td>\n",
       "      <td>-0.059996</td>\n",
       "      <td>0.059996</td>\n",
       "      <td>-0.021711</td>\n",
       "      <td>0.021711</td>\n",
       "      <td>-0.189578</td>\n",
       "      <td>0.189578</td>\n",
       "    </tr>\n",
       "    <tr>\n",
       "      <th>married_NO</th>\n",
       "      <td>-0.010394</td>\n",
       "      <td>0.008386</td>\n",
       "      <td>0.048716</td>\n",
       "      <td>0.021110</td>\n",
       "      <td>-0.021110</td>\n",
       "      <td>-0.003254</td>\n",
       "      <td>0.022649</td>\n",
       "      <td>-0.012483</td>\n",
       "      <td>-0.006369</td>\n",
       "      <td>-1.000000</td>\n",
       "      <td>...</td>\n",
       "      <td>0.009571</td>\n",
       "      <td>-0.009571</td>\n",
       "      <td>-0.028604</td>\n",
       "      <td>0.028604</td>\n",
       "      <td>0.059996</td>\n",
       "      <td>-0.059996</td>\n",
       "      <td>0.021711</td>\n",
       "      <td>-0.021711</td>\n",
       "      <td>0.189578</td>\n",
       "      <td>-0.189578</td>\n",
       "    </tr>\n",
       "    <tr>\n",
       "      <th>car_YES</th>\n",
       "      <td>0.077733</td>\n",
       "      <td>0.081556</td>\n",
       "      <td>0.036455</td>\n",
       "      <td>-0.006667</td>\n",
       "      <td>0.006667</td>\n",
       "      <td>-0.018143</td>\n",
       "      <td>0.024006</td>\n",
       "      <td>-0.061184</td>\n",
       "      <td>0.041604</td>\n",
       "      <td>-0.009571</td>\n",
       "      <td>...</td>\n",
       "      <td>1.000000</td>\n",
       "      <td>-1.000000</td>\n",
       "      <td>0.034310</td>\n",
       "      <td>-0.034310</td>\n",
       "      <td>-0.034783</td>\n",
       "      <td>0.034783</td>\n",
       "      <td>-0.007743</td>\n",
       "      <td>0.007743</td>\n",
       "      <td>0.018917</td>\n",
       "      <td>-0.018917</td>\n",
       "    </tr>\n",
       "    <tr>\n",
       "      <th>car_NO</th>\n",
       "      <td>-0.077733</td>\n",
       "      <td>-0.081556</td>\n",
       "      <td>-0.036455</td>\n",
       "      <td>0.006667</td>\n",
       "      <td>-0.006667</td>\n",
       "      <td>0.018143</td>\n",
       "      <td>-0.024006</td>\n",
       "      <td>0.061184</td>\n",
       "      <td>-0.041604</td>\n",
       "      <td>0.009571</td>\n",
       "      <td>...</td>\n",
       "      <td>-1.000000</td>\n",
       "      <td>1.000000</td>\n",
       "      <td>-0.034310</td>\n",
       "      <td>0.034310</td>\n",
       "      <td>0.034783</td>\n",
       "      <td>-0.034783</td>\n",
       "      <td>0.007743</td>\n",
       "      <td>-0.007743</td>\n",
       "      <td>-0.018917</td>\n",
       "      <td>0.018917</td>\n",
       "    </tr>\n",
       "    <tr>\n",
       "      <th>savings_acct_YES</th>\n",
       "      <td>0.184389</td>\n",
       "      <td>0.266164</td>\n",
       "      <td>0.041536</td>\n",
       "      <td>-0.007207</td>\n",
       "      <td>0.007207</td>\n",
       "      <td>-0.091373</td>\n",
       "      <td>0.036960</td>\n",
       "      <td>0.002605</td>\n",
       "      <td>0.068654</td>\n",
       "      <td>0.028604</td>\n",
       "      <td>...</td>\n",
       "      <td>0.034310</td>\n",
       "      <td>-0.034310</td>\n",
       "      <td>1.000000</td>\n",
       "      <td>-1.000000</td>\n",
       "      <td>0.042511</td>\n",
       "      <td>-0.042511</td>\n",
       "      <td>-0.001588</td>\n",
       "      <td>0.001588</td>\n",
       "      <td>-0.072779</td>\n",
       "      <td>0.072779</td>\n",
       "    </tr>\n",
       "    <tr>\n",
       "      <th>savings_acct_NO</th>\n",
       "      <td>-0.184389</td>\n",
       "      <td>-0.266164</td>\n",
       "      <td>-0.041536</td>\n",
       "      <td>0.007207</td>\n",
       "      <td>-0.007207</td>\n",
       "      <td>0.091373</td>\n",
       "      <td>-0.036960</td>\n",
       "      <td>-0.002605</td>\n",
       "      <td>-0.068654</td>\n",
       "      <td>-0.028604</td>\n",
       "      <td>...</td>\n",
       "      <td>-0.034310</td>\n",
       "      <td>0.034310</td>\n",
       "      <td>-1.000000</td>\n",
       "      <td>1.000000</td>\n",
       "      <td>-0.042511</td>\n",
       "      <td>0.042511</td>\n",
       "      <td>0.001588</td>\n",
       "      <td>-0.001588</td>\n",
       "      <td>0.072779</td>\n",
       "      <td>-0.072779</td>\n",
       "    </tr>\n",
       "    <tr>\n",
       "      <th>current_acct_YES</th>\n",
       "      <td>-0.035312</td>\n",
       "      <td>0.031616</td>\n",
       "      <td>0.006238</td>\n",
       "      <td>0.019466</td>\n",
       "      <td>-0.019466</td>\n",
       "      <td>0.007894</td>\n",
       "      <td>-0.008496</td>\n",
       "      <td>0.038157</td>\n",
       "      <td>-0.027431</td>\n",
       "      <td>-0.059996</td>\n",
       "      <td>...</td>\n",
       "      <td>-0.034783</td>\n",
       "      <td>0.034783</td>\n",
       "      <td>0.042511</td>\n",
       "      <td>-0.042511</td>\n",
       "      <td>1.000000</td>\n",
       "      <td>-1.000000</td>\n",
       "      <td>-0.036704</td>\n",
       "      <td>0.036704</td>\n",
       "      <td>0.025141</td>\n",
       "      <td>-0.025141</td>\n",
       "    </tr>\n",
       "    <tr>\n",
       "      <th>current_acct_NO</th>\n",
       "      <td>0.035312</td>\n",
       "      <td>-0.031616</td>\n",
       "      <td>-0.006238</td>\n",
       "      <td>-0.019466</td>\n",
       "      <td>0.019466</td>\n",
       "      <td>-0.007894</td>\n",
       "      <td>0.008496</td>\n",
       "      <td>-0.038157</td>\n",
       "      <td>0.027431</td>\n",
       "      <td>0.059996</td>\n",
       "      <td>...</td>\n",
       "      <td>0.034783</td>\n",
       "      <td>-0.034783</td>\n",
       "      <td>-0.042511</td>\n",
       "      <td>0.042511</td>\n",
       "      <td>-1.000000</td>\n",
       "      <td>1.000000</td>\n",
       "      <td>0.036704</td>\n",
       "      <td>-0.036704</td>\n",
       "      <td>-0.025141</td>\n",
       "      <td>0.025141</td>\n",
       "    </tr>\n",
       "    <tr>\n",
       "      <th>mortgage_YES</th>\n",
       "      <td>-0.016154</td>\n",
       "      <td>-0.014662</td>\n",
       "      <td>-0.074339</td>\n",
       "      <td>-0.066465</td>\n",
       "      <td>0.066465</td>\n",
       "      <td>0.002098</td>\n",
       "      <td>-0.051908</td>\n",
       "      <td>0.004635</td>\n",
       "      <td>0.036591</td>\n",
       "      <td>-0.021711</td>\n",
       "      <td>...</td>\n",
       "      <td>-0.007743</td>\n",
       "      <td>0.007743</td>\n",
       "      <td>-0.001588</td>\n",
       "      <td>0.001588</td>\n",
       "      <td>-0.036704</td>\n",
       "      <td>0.036704</td>\n",
       "      <td>1.000000</td>\n",
       "      <td>-1.000000</td>\n",
       "      <td>-0.024182</td>\n",
       "      <td>0.024182</td>\n",
       "    </tr>\n",
       "    <tr>\n",
       "      <th>mortgage_NO</th>\n",
       "      <td>0.016154</td>\n",
       "      <td>0.014662</td>\n",
       "      <td>0.074339</td>\n",
       "      <td>0.066465</td>\n",
       "      <td>-0.066465</td>\n",
       "      <td>-0.002098</td>\n",
       "      <td>0.051908</td>\n",
       "      <td>-0.004635</td>\n",
       "      <td>-0.036591</td>\n",
       "      <td>0.021711</td>\n",
       "      <td>...</td>\n",
       "      <td>0.007743</td>\n",
       "      <td>-0.007743</td>\n",
       "      <td>0.001588</td>\n",
       "      <td>-0.001588</td>\n",
       "      <td>0.036704</td>\n",
       "      <td>-0.036704</td>\n",
       "      <td>-1.000000</td>\n",
       "      <td>1.000000</td>\n",
       "      <td>0.024182</td>\n",
       "      <td>-0.024182</td>\n",
       "    </tr>\n",
       "    <tr>\n",
       "      <th>pep_YES</th>\n",
       "      <td>0.173825</td>\n",
       "      <td>0.221991</td>\n",
       "      <td>-0.057663</td>\n",
       "      <td>-0.046843</td>\n",
       "      <td>0.046843</td>\n",
       "      <td>0.001054</td>\n",
       "      <td>0.019714</td>\n",
       "      <td>0.062508</td>\n",
       "      <td>-0.059115</td>\n",
       "      <td>-0.189578</td>\n",
       "      <td>...</td>\n",
       "      <td>0.018917</td>\n",
       "      <td>-0.018917</td>\n",
       "      <td>-0.072779</td>\n",
       "      <td>0.072779</td>\n",
       "      <td>0.025141</td>\n",
       "      <td>-0.025141</td>\n",
       "      <td>-0.024182</td>\n",
       "      <td>0.024182</td>\n",
       "      <td>1.000000</td>\n",
       "      <td>-1.000000</td>\n",
       "    </tr>\n",
       "    <tr>\n",
       "      <th>pep_NO</th>\n",
       "      <td>-0.173825</td>\n",
       "      <td>-0.221991</td>\n",
       "      <td>0.057663</td>\n",
       "      <td>0.046843</td>\n",
       "      <td>-0.046843</td>\n",
       "      <td>-0.001054</td>\n",
       "      <td>-0.019714</td>\n",
       "      <td>-0.062508</td>\n",
       "      <td>0.059115</td>\n",
       "      <td>0.189578</td>\n",
       "      <td>...</td>\n",
       "      <td>-0.018917</td>\n",
       "      <td>0.018917</td>\n",
       "      <td>0.072779</td>\n",
       "      <td>-0.072779</td>\n",
       "      <td>-0.025141</td>\n",
       "      <td>0.025141</td>\n",
       "      <td>0.024182</td>\n",
       "      <td>-0.024182</td>\n",
       "      <td>-1.000000</td>\n",
       "      <td>1.000000</td>\n",
       "    </tr>\n",
       "  </tbody>\n",
       "</table>\n",
       "<p>21 rows × 21 columns</p>\n",
       "</div>"
      ],
      "text/plain": [
       "                  norm_age  norm_income  norm_children    Female      Male  \\\n",
       "norm_age          1.000000     0.752726       0.023572  0.090081 -0.090081   \n",
       "norm_income       0.752726     1.000000       0.036761  0.023845 -0.023845   \n",
       "norm_children     0.023572     0.036761       1.000000  0.014206 -0.014206   \n",
       "Female            0.090081     0.023845       0.014206  1.000000 -1.000000   \n",
       "Male             -0.090081    -0.023845      -0.014206 -1.000000  1.000000   \n",
       "rg_INNER_CITY    -0.025171    -0.047564      -0.051222 -0.023459  0.023459   \n",
       "rg_RURAL          0.018635     0.084776       0.089902 -0.009092  0.009092   \n",
       "rg_SUBURBAN       0.031345     0.029824      -0.014122 -0.010951  0.010951   \n",
       "rg_TOWN          -0.008510    -0.036431      -0.007033  0.040472 -0.040472   \n",
       "married_YES       0.010394    -0.008386      -0.048716 -0.021110  0.021110   \n",
       "married_NO       -0.010394     0.008386       0.048716  0.021110 -0.021110   \n",
       "car_YES           0.077733     0.081556       0.036455 -0.006667  0.006667   \n",
       "car_NO           -0.077733    -0.081556      -0.036455  0.006667 -0.006667   \n",
       "savings_acct_YES  0.184389     0.266164       0.041536 -0.007207  0.007207   \n",
       "savings_acct_NO  -0.184389    -0.266164      -0.041536  0.007207 -0.007207   \n",
       "current_acct_YES -0.035312     0.031616       0.006238  0.019466 -0.019466   \n",
       "current_acct_NO   0.035312    -0.031616      -0.006238 -0.019466  0.019466   \n",
       "mortgage_YES     -0.016154    -0.014662      -0.074339 -0.066465  0.066465   \n",
       "mortgage_NO       0.016154     0.014662       0.074339  0.066465 -0.066465   \n",
       "pep_YES           0.173825     0.221991      -0.057663 -0.046843  0.046843   \n",
       "pep_NO           -0.173825    -0.221991       0.057663  0.046843 -0.046843   \n",
       "\n",
       "                  rg_INNER_CITY  rg_RURAL  rg_SUBURBAN   rg_TOWN  married_YES  \\\n",
       "norm_age              -0.025171  0.018635     0.031345 -0.008510     0.010394   \n",
       "norm_income           -0.047564  0.084776     0.029824 -0.036431    -0.008386   \n",
       "norm_children         -0.051222  0.089902    -0.014122 -0.007033    -0.048716   \n",
       "Female                -0.023459 -0.009092    -0.010951  0.040472    -0.021110   \n",
       "Male                   0.023459  0.009092     0.010951 -0.040472     0.021110   \n",
       "rg_INNER_CITY          1.000000 -0.393444    -0.306032 -0.573814     0.003254   \n",
       "rg_RURAL              -0.393444  1.000000    -0.148158 -0.277798    -0.022649   \n",
       "rg_SUBURBAN           -0.306032 -0.148158     1.000000 -0.216080     0.012483   \n",
       "rg_TOWN               -0.573814 -0.277798    -0.216080  1.000000     0.006369   \n",
       "married_YES            0.003254 -0.022649     0.012483  0.006369     1.000000   \n",
       "married_NO            -0.003254  0.022649    -0.012483 -0.006369    -1.000000   \n",
       "car_YES               -0.018143  0.024006    -0.061184  0.041604    -0.009571   \n",
       "car_NO                 0.018143 -0.024006     0.061184 -0.041604     0.009571   \n",
       "savings_acct_YES      -0.091373  0.036960     0.002605  0.068654     0.028604   \n",
       "savings_acct_NO        0.091373 -0.036960    -0.002605 -0.068654    -0.028604   \n",
       "current_acct_YES       0.007894 -0.008496     0.038157 -0.027431    -0.059996   \n",
       "current_acct_NO       -0.007894  0.008496    -0.038157  0.027431     0.059996   \n",
       "mortgage_YES           0.002098 -0.051908     0.004635  0.036591    -0.021711   \n",
       "mortgage_NO           -0.002098  0.051908    -0.004635 -0.036591     0.021711   \n",
       "pep_YES                0.001054  0.019714     0.062508 -0.059115    -0.189578   \n",
       "pep_NO                -0.001054 -0.019714    -0.062508  0.059115     0.189578   \n",
       "\n",
       "                  ...   car_YES    car_NO  savings_acct_YES  savings_acct_NO  \\\n",
       "norm_age          ...  0.077733 -0.077733          0.184389        -0.184389   \n",
       "norm_income       ...  0.081556 -0.081556          0.266164        -0.266164   \n",
       "norm_children     ...  0.036455 -0.036455          0.041536        -0.041536   \n",
       "Female            ... -0.006667  0.006667         -0.007207         0.007207   \n",
       "Male              ...  0.006667 -0.006667          0.007207        -0.007207   \n",
       "rg_INNER_CITY     ... -0.018143  0.018143         -0.091373         0.091373   \n",
       "rg_RURAL          ...  0.024006 -0.024006          0.036960        -0.036960   \n",
       "rg_SUBURBAN       ... -0.061184  0.061184          0.002605        -0.002605   \n",
       "rg_TOWN           ...  0.041604 -0.041604          0.068654        -0.068654   \n",
       "married_YES       ... -0.009571  0.009571          0.028604        -0.028604   \n",
       "married_NO        ...  0.009571 -0.009571         -0.028604         0.028604   \n",
       "car_YES           ...  1.000000 -1.000000          0.034310        -0.034310   \n",
       "car_NO            ... -1.000000  1.000000         -0.034310         0.034310   \n",
       "savings_acct_YES  ...  0.034310 -0.034310          1.000000        -1.000000   \n",
       "savings_acct_NO   ... -0.034310  0.034310         -1.000000         1.000000   \n",
       "current_acct_YES  ... -0.034783  0.034783          0.042511        -0.042511   \n",
       "current_acct_NO   ...  0.034783 -0.034783         -0.042511         0.042511   \n",
       "mortgage_YES      ... -0.007743  0.007743         -0.001588         0.001588   \n",
       "mortgage_NO       ...  0.007743 -0.007743          0.001588        -0.001588   \n",
       "pep_YES           ...  0.018917 -0.018917         -0.072779         0.072779   \n",
       "pep_NO            ... -0.018917  0.018917          0.072779        -0.072779   \n",
       "\n",
       "                  current_acct_YES  current_acct_NO  mortgage_YES  \\\n",
       "norm_age                 -0.035312         0.035312     -0.016154   \n",
       "norm_income               0.031616        -0.031616     -0.014662   \n",
       "norm_children             0.006238        -0.006238     -0.074339   \n",
       "Female                    0.019466        -0.019466     -0.066465   \n",
       "Male                     -0.019466         0.019466      0.066465   \n",
       "rg_INNER_CITY             0.007894        -0.007894      0.002098   \n",
       "rg_RURAL                 -0.008496         0.008496     -0.051908   \n",
       "rg_SUBURBAN               0.038157        -0.038157      0.004635   \n",
       "rg_TOWN                  -0.027431         0.027431      0.036591   \n",
       "married_YES              -0.059996         0.059996     -0.021711   \n",
       "married_NO                0.059996        -0.059996      0.021711   \n",
       "car_YES                  -0.034783         0.034783     -0.007743   \n",
       "car_NO                    0.034783        -0.034783      0.007743   \n",
       "savings_acct_YES          0.042511        -0.042511     -0.001588   \n",
       "savings_acct_NO          -0.042511         0.042511      0.001588   \n",
       "current_acct_YES          1.000000        -1.000000     -0.036704   \n",
       "current_acct_NO          -1.000000         1.000000      0.036704   \n",
       "mortgage_YES             -0.036704         0.036704      1.000000   \n",
       "mortgage_NO               0.036704        -0.036704     -1.000000   \n",
       "pep_YES                   0.025141        -0.025141     -0.024182   \n",
       "pep_NO                   -0.025141         0.025141      0.024182   \n",
       "\n",
       "                  mortgage_NO   pep_YES    pep_NO  \n",
       "norm_age             0.016154  0.173825 -0.173825  \n",
       "norm_income          0.014662  0.221991 -0.221991  \n",
       "norm_children        0.074339 -0.057663  0.057663  \n",
       "Female               0.066465 -0.046843  0.046843  \n",
       "Male                -0.066465  0.046843 -0.046843  \n",
       "rg_INNER_CITY       -0.002098  0.001054 -0.001054  \n",
       "rg_RURAL             0.051908  0.019714 -0.019714  \n",
       "rg_SUBURBAN         -0.004635  0.062508 -0.062508  \n",
       "rg_TOWN             -0.036591 -0.059115  0.059115  \n",
       "married_YES          0.021711 -0.189578  0.189578  \n",
       "married_NO          -0.021711  0.189578 -0.189578  \n",
       "car_YES              0.007743  0.018917 -0.018917  \n",
       "car_NO              -0.007743 -0.018917  0.018917  \n",
       "savings_acct_YES     0.001588 -0.072779  0.072779  \n",
       "savings_acct_NO     -0.001588  0.072779 -0.072779  \n",
       "current_acct_YES     0.036704  0.025141 -0.025141  \n",
       "current_acct_NO     -0.036704 -0.025141  0.025141  \n",
       "mortgage_YES        -1.000000 -0.024182  0.024182  \n",
       "mortgage_NO          1.000000  0.024182 -0.024182  \n",
       "pep_YES              0.024182  1.000000 -1.000000  \n",
       "pep_NO              -0.024182 -1.000000  1.000000  \n",
       "\n",
       "[21 rows x 21 columns]"
      ]
     },
     "execution_count": 37,
     "metadata": {},
     "output_type": "execute_result"
    }
   ],
   "source": [
    "#using pandas create dataframe and get correlation\n",
    "df = pd.DataFrame()\n",
    "df['norm_age'] = norm_age\n",
    "df['norm_income']= norm_income\n",
    "df['norm_children'] = norm_children\n",
    "df['Female'] = Female\n",
    "df['Male'] = Male\n",
    "df['rg_INNER_CITY'] = rg_INNER_CITY\n",
    "df['rg_RURAL'] = rg_RURAL\n",
    "df['rg_SUBURBAN'] = rg_SUBURBAN\n",
    "df['rg_TOWN'] = rg_TOWN\n",
    "df['married_YES'] = married_YES\n",
    "df['married_NO'] = married_NO\n",
    "df['car_YES'] = car_YES\n",
    "df['car_NO'] = car_NO\n",
    "df['savings_acct_YES'] = savings_acct_YES\n",
    "df['savings_acct_NO'] = savings_acct_NO\n",
    "df['current_acct_YES'] = current_acct_YES\n",
    "df['current_acct_NO'] = current_acct_NO\n",
    "df['mortgage_YES'] = mortgage_YES\n",
    "df['mortgage_NO'] = mortgage_NO\n",
    "df['pep_YES'] = pep_YES\n",
    "df['pep_NO'] = pep_NO\n",
    "\n",
    "df.corr()"
   ]
  },
  {
   "cell_type": "markdown",
   "metadata": {},
   "source": [
    "#### Discussion"
   ]
  },
  {
   "cell_type": "code",
   "execution_count": 38,
   "metadata": {},
   "outputs": [],
   "source": [
    "#After generate these two correlation tables by using pandas and numpy, it is clear to see the table by using \n",
    "#pandas is easier to read. From the tables. we can get strong relationships between variables: \n",
    "#age, income, married, saving_acct, and pep."
   ]
  },
  {
   "cell_type": "markdown",
   "metadata": {},
   "source": [
    "### 8. Using Matplotlib library and/or ploting capabilties of Pandas, create a scatter plot of the (non-normalized) Income attribute relative to Age. Be sure that your plot contains appropriate labels for the axes. Do these variables seem correlated?"
   ]
  },
  {
   "cell_type": "code",
   "execution_count": 39,
   "metadata": {},
   "outputs": [
    {
     "data": {
      "image/png": "[encoded data removed]",
      "text/plain": [
       "<Figure size 432x288 with 1 Axes>"
      ]
     },
     "metadata": {
      "needs_background": "light"
     },
     "output_type": "display_data"
    }
   ],
   "source": [
    "plt.scatter(age, income, marker = '.')\n",
    "plt.xlabel('Age')\n",
    "plt.ylabel('Income')\n",
    "plt.title('Age vs Income')\n",
    "plt.grid(True)\n",
    "\n",
    "#Yes, these two variables correlated. With the age increasing, the trend of the income is increasing."
   ]
  },
  {
   "cell_type": "markdown",
   "metadata": {},
   "source": [
    "### 9. Create histograms for (non-normalized) Income (using 10 bins) and Age (using 14 bins)."
   ]
  },
  {
   "cell_type": "code",
   "execution_count": 40,
   "metadata": {},
   "outputs": [
    {
     "data": {
      "image/png": "[encoded data removed]",
      "text/plain": [
       "<Figure size 432x288 with 1 Axes>"
      ]
     },
     "metadata": {
      "needs_background": "light"
     },
     "output_type": "display_data"
    }
   ],
   "source": [
    "plt.hist(income, bins=10, alpha=0.7)\n",
    "plt.xlabel('income')\n",
    "plt.ylabel('count')\n",
    "plt.title('Histogram of Non-Normalized Income')\n",
    "plt.axis([0, 70000, 0, 130])\n",
    "plt.grid(True)"
   ]
  },
  {
   "cell_type": "code",
   "execution_count": 41,
   "metadata": {},
   "outputs": [
    {
     "data": {
      "image/png": "[encoded data removed]",
      "text/plain": [
       "<Figure size 432x288 with 1 Axes>"
      ]
     },
     "metadata": {
      "needs_background": "light"
     },
     "output_type": "display_data"
    }
   ],
   "source": [
    "plt.hist(age, bins=14, alpha=0.7)\n",
    "plt.xlabel('age')\n",
    "plt.ylabel('count')\n",
    "plt.title('Histogram of Non-Normalized Age')\n",
    "plt.axis([15, 70, 0, 65])\n",
    "plt.grid(True)"
   ]
  },
  {
   "cell_type": "markdown",
   "metadata": {},
   "source": [
    "### 10. Using a bargraph, plot the distribution of the values of the region attribute."
   ]
  },
  {
   "cell_type": "code",
   "execution_count": 42,
   "metadata": {},
   "outputs": [
    {
     "data": {
      "image/png": "[encoded data removed]",
      "text/plain": [
       "<Figure size 432x288 with 1 Axes>"
      ]
     },
     "metadata": {
      "needs_background": "light"
     },
     "output_type": "display_data"
    }
   ],
   "source": [
    "objects = ('INNER_CITY','RURAL','SUBURBAN', 'TOWN')\n",
    "y_pos = np.arange(len(objects))\n",
    "performance = [np.sum(rg_INNER_CITY==1),np.sum(rg_RURAL==1),np.sum(rg_SUBURBAN==1),np.sum(rg_TOWN==1)]\n",
    "\n",
    "plt.bar(y_pos, performance, align='center', alpha=0.7)\n",
    "plt.xticks(y_pos, objects)\n",
    "plt.ylabel('count')\n",
    "plt.title('the distribution of the values of the region attribute')\n",
    "\n",
    "plt.show()"
   ]
  },
  {
   "cell_type": "markdown",
   "metadata": {},
   "source": [
    "### 11. Perform a cross-tabulation of the region attribute with the pep attribute. This requires the aggregation of the occurrences of each pep value (yes or no) separately for each value of the region attribute. Show the results as a 4 by 2 (region x pep) table with entries representing the counts. [Hint: you can either use Numpy or use aggregations fucntions in Pandas such as groupby() and  cross-tab().] Then, either using Matplotlib directly or the plot() function in Pandas create a bar chart graph to visualize of the relationships between these sets of variables. [Hint: This example of creating simple bar charts using Matplotlib may be useful.]"
   ]
  },
  {
   "cell_type": "code",
   "execution_count": 43,
   "metadata": {},
   "outputs": [
    {
     "data": {
      "text/html": [
       "<div>\n",
       "<style scoped>\n",
       "    .dataframe tbody tr th:only-of-type {\n",
       "        vertical-align: middle;\n",
       "    }\n",
       "\n",
       "    .dataframe tbody tr th {\n",
       "        vertical-align: top;\n",
       "    }\n",
       "\n",
       "    .dataframe thead tr th {\n",
       "        text-align: left;\n",
       "    }\n",
       "\n",
       "    .dataframe thead tr:last-of-type th {\n",
       "        text-align: right;\n",
       "    }\n",
       "</style>\n",
       "<table border=\"1\" class=\"dataframe\">\n",
       "  <thead>\n",
       "    <tr>\n",
       "      <th></th>\n",
       "      <th>rg_INNER_CITY</th>\n",
       "      <th colspan=\"3\" halign=\"left\">0.0</th>\n",
       "      <th>1.0</th>\n",
       "      <th>All</th>\n",
       "    </tr>\n",
       "    <tr>\n",
       "      <th></th>\n",
       "      <th>rg_TOWN</th>\n",
       "      <th colspan=\"2\" halign=\"left\">0.0</th>\n",
       "      <th>1.0</th>\n",
       "      <th>0.0</th>\n",
       "      <th></th>\n",
       "    </tr>\n",
       "    <tr>\n",
       "      <th></th>\n",
       "      <th>rg_RURAL</th>\n",
       "      <th>0.0</th>\n",
       "      <th>1.0</th>\n",
       "      <th>0.0</th>\n",
       "      <th>0.0</th>\n",
       "      <th></th>\n",
       "    </tr>\n",
       "    <tr>\n",
       "      <th></th>\n",
       "      <th>rg_SUBURBAN</th>\n",
       "      <th>1.0</th>\n",
       "      <th>0.0</th>\n",
       "      <th>0.0</th>\n",
       "      <th>0.0</th>\n",
       "      <th></th>\n",
       "    </tr>\n",
       "    <tr>\n",
       "      <th>pep_YES</th>\n",
       "      <th>pep_NO</th>\n",
       "      <th></th>\n",
       "      <th></th>\n",
       "      <th></th>\n",
       "      <th></th>\n",
       "      <th></th>\n",
       "    </tr>\n",
       "  </thead>\n",
       "  <tbody>\n",
       "    <tr>\n",
       "      <th>0.0</th>\n",
       "      <th>1.0</th>\n",
       "      <td>28</td>\n",
       "      <td>50</td>\n",
       "      <td>102</td>\n",
       "      <td>146</td>\n",
       "      <td>326</td>\n",
       "    </tr>\n",
       "    <tr>\n",
       "      <th>1.0</th>\n",
       "      <th>0.0</th>\n",
       "      <td>34</td>\n",
       "      <td>46</td>\n",
       "      <td>71</td>\n",
       "      <td>123</td>\n",
       "      <td>274</td>\n",
       "    </tr>\n",
       "    <tr>\n",
       "      <th>All</th>\n",
       "      <th></th>\n",
       "      <td>62</td>\n",
       "      <td>96</td>\n",
       "      <td>173</td>\n",
       "      <td>269</td>\n",
       "      <td>600</td>\n",
       "    </tr>\n",
       "  </tbody>\n",
       "</table>\n",
       "</div>"
      ],
      "text/plain": [
       "rg_INNER_CITY  0.0           1.0  All\n",
       "rg_TOWN        0.0      1.0  0.0     \n",
       "rg_RURAL       0.0 1.0  0.0  0.0     \n",
       "rg_SUBURBAN    1.0 0.0  0.0  0.0     \n",
       "pep_YES pep_NO                       \n",
       "0.0     1.0     28  50  102  146  326\n",
       "1.0     0.0     34  46   71  123  274\n",
       "All             62  96  173  269  600"
      ]
     },
     "execution_count": 43,
     "metadata": {},
     "output_type": "execute_result"
    }
   ],
   "source": [
    "cross_tab = pd.crosstab([df.pep_YES, df.pep_NO], [df.rg_INNER_CITY, df.rg_TOWN, df.rg_RURAL, df.rg_SUBURBAN],  margins=True)\n",
    "cross_tab"
   ]
  },
  {
   "cell_type": "code",
   "execution_count": 44,
   "metadata": {},
   "outputs": [
    {
     "data": {
      "image/png": "[encoded data removed]",
      "text/plain": [
       "<Figure size 432x288 with 1 Axes>"
      ]
     },
     "metadata": {
      "needs_background": "light"
     },
     "output_type": "display_data"
    }
   ],
   "source": [
    "no_counts = [28, 50, 102, 146]\n",
    "yes_counts = [34, 46, 71, 123] \n",
    "N = len(no_counts)\n",
    "\n",
    "ind = np.arange(N)  # the x locations for the groups\n",
    "ind = ind + 0.15\n",
    "width = 0.35       # the width of the bars\n",
    "\n",
    "fig, ax = plt.subplots()\n",
    "rects1 = ax.bar(ind, no_counts, width, color='b')\n",
    "rects2 = ax.bar(ind+width, yes_counts, width, color='r')\n",
    "\n",
    "rects1 = plt.bar(ind, no_counts, width, color='b')\n",
    "rects2 = plt.bar(ind+width, yes_counts, width, color='r')\n",
    "\n",
    "\n",
    "ax.set_ylabel('Counts')\n",
    "ax.set_ybound(upper=165)\n",
    "ax.set_title('Counts by whether the customer purchased PEP')\n",
    "ax.set_xticks(ind+width/2)\n",
    "ax.set_xticklabels( ('INNER_CITY', 'TOWN', 'RURAL', 'SUBURBAN') )\n",
    "\n",
    "ax.legend( (rects1[0], rects2[0]), ('Purchased PEP', \"Didn't Purchased PEP\") )\n",
    "\n",
    "\n",
    "def autolabel(rects):\n",
    "\n",
    "    for rect in rects:\n",
    "        height = rect.get_height()\n",
    "        ax.text(rect.get_x() + rect.get_width()/2., 1.05*height,\n",
    "                '%d' % int(height),\n",
    "                ha='center', va='bottom')\n",
    "        \n",
    "autolabel(rects1)\n",
    "autolabel(rects2)\n",
    "\n",
    "plt.show()"
   ]
  }
 ],
 "metadata": {
  "kernelspec": {
   "display_name": "Python 3",
   "language": "python",
   "name": "python3"
  },
  "language_info": {
   "codemirror_mode": {
    "name": "ipython",
    "version": 3
   },
   "file_extension": ".py",
   "mimetype": "text/x-python",
   "name": "python",
   "nbconvert_exporter": "python",
   "pygments_lexer": "ipython3",
   "version": "3.8.5"
  }
 },
 "nbformat": 4,
 "nbformat_minor": 4
}
